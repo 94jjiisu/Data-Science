{
  "nbformat": 4,
  "nbformat_minor": 0,
  "metadata": {
    "colab": {
      "provenance": []
    },
    "kernelspec": {
      "name": "python3",
      "display_name": "Python 3"
    },
    "language_info": {
      "name": "python"
    },
    "accelerator": "GPU",
    "gpuClass": "standard"
  },
  "cells": [
    {
      "cell_type": "markdown",
      "source": [
        "이번 과제에서는 손으로 그린 스케치 정보를 가져와 수행을 할 것입니다.\n",
        "구글의 Quick Draw 데이터셋을 이용하여 진행해볼 것인데, 손 낙서 데이터는 벡터 포맷으로 저장되어 있어서 비트맵 형태로 변환하여 사용해야 합니다.\n",
        "\n",
        "이번 오토인코더에서는 '고양이 스러움'을 학습하는 모델을 구현합니다. 고양이라는 낙서의 내적 표상(internal represent)을 latent가 갖도록 하는 것입니다. \n",
        "\n",
        "- 구글의 Quick Draw는 사용자가 그린 낙서를 AI가 맞추는 온라인 게임이며,\n",
        "- 데이터는 다양한 포맷으로 제공되는데,\n",
        "- 이번 샘플에서는 Binary encoding된 낙서 데이터를 이용할 것입니다..\n"
      ],
      "metadata": {
        "id": "fpzkUkauP8xh"
      }
    },
    {
      "cell_type": "markdown",
      "source": [
        "사용할 라이브러리들을 불러옵니다."
      ],
      "metadata": {
        "id": "CAFdM9QtQIFK"
      }
    },
    {
      "cell_type": "code",
      "execution_count": 21,
      "metadata": {
        "id": "5eYkrPdVOpec"
      },
      "outputs": [],
      "source": [
        "# import matplotlib.pyplot as plt\n",
        "# import json, glob\n",
        "import numpy as np\n",
        "import tensorflow as tf\n",
        "from tensorflow import keras"
      ]
    },
    {
      "cell_type": "markdown",
      "source": [
        "고양이 정보를 수집할 주소를 입력합니다."
      ],
      "metadata": {
        "id": "SPZJwKAGQMgY"
      }
    },
    {
      "cell_type": "code",
      "source": [
        "from keras.utils import get_file\n",
        "\n",
        "BASE_PATH = 'https://storage.googleapis.com/quickdraw_dataset/full/binary/'\n",
        "path = get_file('cat', BASE_PATH + 'cat.bin')"
      ],
      "metadata": {
        "colab": {
          "base_uri": "https://localhost:8080/"
        },
        "id": "KyDlSb8eQMoZ",
        "outputId": "b2dd9362-141d-4e99-b37c-12ecef74b136"
      },
      "execution_count": 2,
      "outputs": [
        {
          "output_type": "stream",
          "name": "stdout",
          "text": [
            "Downloading data from https://storage.googleapis.com/quickdraw_dataset/full/binary/cat.bin\n",
            "19571324/19571324 [==============================] - 2s 0us/step\n"
          ]
        }
      ]
    },
    {
      "cell_type": "code",
      "source": [
        "import PIL\n",
        "from PIL import ImageDraw\n",
        "from struct import unpack\n",
        "from sklearn.model_selection import train_test_split\n",
        "\n",
        "def load_drows(path, train_size=0.85):\n",
        "    x = []\n",
        "    # 파일을 풀고 낙서를 하나하나 모은다. 낙서는 15바이트 헤더로 시작한다.\n",
        "    with open(path, 'rb') as f:\n",
        "        while True:\n",
        "            img = PIL.Image.new('L', (32, 32), 'white') # 8-bit pixels, black and white #https://pillow.readthedocs.io/en/stable/handbook/concepts.html#concept-modes\n",
        "            draw = ImageDraw.Draw(img)\n",
        "            header = f.read(15)\n",
        "            if len(header) != 15:\n",
        "                break\n",
        "            # 낙서는 x,y 좌표로 구성된 획(stroke) 목록으로 되어 있고, 각 좌표는 분리되어 저장되어 있다.\n",
        "            # 방금 위에서 생성한 ImageDraw 객체의 좌표 목록을 이용하기 위해 zip()함수를 사용하여 합쳐준다.\n",
        "            strokes, = unpack('H', f.read(2))\n",
        "            for i in range(strokes):\n",
        "                n_points, = unpack('H', f.read(2))\n",
        "                fmt = str(n_points) + 'B'\n",
        "                read_scaled = lambda: (p // 8 for \n",
        "                                       p in unpack(fmt, f.read(n_points)))\n",
        "                points = [*zip(read_scaled(), read_scaled())]               # zip 함수\n",
        "                draw.line(points, fill=0, width=2)\n",
        "            img = tf.keras.utils.img_to_array(img)\n",
        "            x.append(img)\n",
        "    x = np.asarray(x) / 255\n",
        "    return train_test_split(x, train_size=train_size)\n",
        "\n",
        "# 입력받은 10만개의 고양이 낙서 데이터를 활용할 수 있다. \n",
        "x_train, x_test = load_drows(path)\n",
        "print(x_train.shape, x_test.shape) # ((104721, 32, 32, 1), (18481, 32, 32, 1))"
      ],
      "metadata": {
        "colab": {
          "base_uri": "https://localhost:8080/"
        },
        "id": "M-wXTf8lQNv1",
        "outputId": "0e8a98f1-cb0c-4502-9168-ff7ff7fad985"
      },
      "execution_count": 7,
      "outputs": [
        {
          "output_type": "stream",
          "name": "stdout",
          "text": [
            "(104721, 32, 32, 1) (18481, 32, 32, 1)\n"
          ]
        }
      ]
    },
    {
      "cell_type": "code",
      "source": [
        "\n",
        "\n",
        "from tensorflow.keras.layers import Input, Dense, Conv2D, MaxPooling2D, UpSampling2D, Reshape, Concatenate, Flatten, Lambda\n",
        "from tensorflow.keras.models import Model\n",
        "from tensorflow.keras.preprocessing.image import load_img, img_to_array, ImageDataGenerator\n",
        "from tensorflow.keras.losses import binary_crossentropy, kullback_leibler_divergence\n",
        "from tensorflow.keras import backend as K\n",
        "\n",
        "def create_AE():\n",
        "    input_img = Input(shape=(32, 32, 1))\n",
        "\n",
        "    channels = 2\n",
        "    x = input_img\n",
        "    for i in range(4):\n",
        "        channels *= 2\n",
        "        # 여기에 다운샘플링 할 수 있는 코드를 제작하세요.\n",
        "        # 구조는 아래 첨부된 이미지를 참조하세요.\n",
        "        # 사용할 함수 : Conv2D(activation='relu', padding='same'), Concatenate(), MaxPooling2D(padding='same')\n",
        "\n",
        "        left = Conv2D(channels, (3, 3), activation='relu', padding='same')(x)\n",
        "        right = Conv2D(channels, (2, 2), activation='relu', padding='same')(x)\n",
        "        conc = Concatenate()([left, right])\n",
        "        x = MaxPooling2D((2, 2), padding='same')(conc)\n",
        "\n",
        "    x = Dense(32)(x)\n",
        "\n",
        "    for i in range(4):\n",
        "        # 여기에 업샘플링할 수 있는 코드를 제작 하세요. \n",
        "        # 사용할 함수 : Conv2D(activation='relu', padding='same'), UpSampling2D(padding='same')\n",
        "\n",
        "        x = Conv2D(channels, (3, 3), activation='relu', padding='same')(x)\n",
        "        x = UpSampling2D((2, 2))(x)\n",
        "        channels /= 2\n",
        "\n",
        "    decoded = Conv2D(1, (3, 3), activation='sigmoid', padding='same')(x)\n",
        "    autoencoder = Model(input_img, decoded)\n",
        "    autoencoder.compile(optimizer='adadelta', loss='binary_crossentropy')\n",
        "    return autoencoder\n",
        "\n",
        "autoencoder = create_AE()\n",
        "autoencoder.summary()"
      ],
      "metadata": {
        "colab": {
          "base_uri": "https://localhost:8080/"
        },
        "id": "zhhpnQb9QOsL",
        "outputId": "9a3f93d9-89af-4fcd-8d8d-5dc020f65843"
      },
      "execution_count": 15,
      "outputs": [
        {
          "output_type": "stream",
          "name": "stdout",
          "text": [
            "Model: \"model_1\"\n",
            "__________________________________________________________________________________________________\n",
            " Layer (type)                   Output Shape         Param #     Connected to                     \n",
            "==================================================================================================\n",
            " input_2 (InputLayer)           [(None, 32, 32, 1)]  0           []                               \n",
            "                                                                                                  \n",
            " conv2d_1 (Conv2D)              (None, 32, 32, 4)    40          ['input_2[0][0]']                \n",
            "                                                                                                  \n",
            " conv2d_2 (Conv2D)              (None, 32, 32, 4)    20          ['input_2[0][0]']                \n",
            "                                                                                                  \n",
            " concatenate (Concatenate)      (None, 32, 32, 8)    0           ['conv2d_1[0][0]',               \n",
            "                                                                  'conv2d_2[0][0]']               \n",
            "                                                                                                  \n",
            " max_pooling2d (MaxPooling2D)   (None, 16, 16, 8)    0           ['concatenate[0][0]']            \n",
            "                                                                                                  \n",
            " conv2d_3 (Conv2D)              (None, 16, 16, 8)    584         ['max_pooling2d[0][0]']          \n",
            "                                                                                                  \n",
            " conv2d_4 (Conv2D)              (None, 16, 16, 8)    264         ['max_pooling2d[0][0]']          \n",
            "                                                                                                  \n",
            " concatenate_1 (Concatenate)    (None, 16, 16, 16)   0           ['conv2d_3[0][0]',               \n",
            "                                                                  'conv2d_4[0][0]']               \n",
            "                                                                                                  \n",
            " max_pooling2d_1 (MaxPooling2D)  (None, 8, 8, 16)    0           ['concatenate_1[0][0]']          \n",
            "                                                                                                  \n",
            " conv2d_5 (Conv2D)              (None, 8, 8, 16)     2320        ['max_pooling2d_1[0][0]']        \n",
            "                                                                                                  \n",
            " conv2d_6 (Conv2D)              (None, 8, 8, 16)     1040        ['max_pooling2d_1[0][0]']        \n",
            "                                                                                                  \n",
            " concatenate_2 (Concatenate)    (None, 8, 8, 32)     0           ['conv2d_5[0][0]',               \n",
            "                                                                  'conv2d_6[0][0]']               \n",
            "                                                                                                  \n",
            " max_pooling2d_2 (MaxPooling2D)  (None, 4, 4, 32)    0           ['concatenate_2[0][0]']          \n",
            "                                                                                                  \n",
            " conv2d_7 (Conv2D)              (None, 4, 4, 32)     9248        ['max_pooling2d_2[0][0]']        \n",
            "                                                                                                  \n",
            " conv2d_8 (Conv2D)              (None, 4, 4, 32)     4128        ['max_pooling2d_2[0][0]']        \n",
            "                                                                                                  \n",
            " concatenate_3 (Concatenate)    (None, 4, 4, 64)     0           ['conv2d_7[0][0]',               \n",
            "                                                                  'conv2d_8[0][0]']               \n",
            "                                                                                                  \n",
            " max_pooling2d_3 (MaxPooling2D)  (None, 2, 2, 64)    0           ['concatenate_3[0][0]']          \n",
            "                                                                                                  \n",
            " dense_1 (Dense)                (None, 2, 2, 32)     2080        ['max_pooling2d_3[0][0]']        \n",
            "                                                                                                  \n",
            " conv2d_9 (Conv2D)              (None, 2, 2, 32)     9248        ['dense_1[0][0]']                \n",
            "                                                                                                  \n",
            " up_sampling2d (UpSampling2D)   (None, 4, 4, 32)     0           ['conv2d_9[0][0]']               \n",
            "                                                                                                  \n",
            " conv2d_10 (Conv2D)             (None, 4, 4, 16)     4624        ['up_sampling2d[0][0]']          \n",
            "                                                                                                  \n",
            " up_sampling2d_1 (UpSampling2D)  (None, 8, 8, 16)    0           ['conv2d_10[0][0]']              \n",
            "                                                                                                  \n",
            " conv2d_11 (Conv2D)             (None, 8, 8, 8)      1160        ['up_sampling2d_1[0][0]']        \n",
            "                                                                                                  \n",
            " up_sampling2d_2 (UpSampling2D)  (None, 16, 16, 8)   0           ['conv2d_11[0][0]']              \n",
            "                                                                                                  \n",
            " conv2d_12 (Conv2D)             (None, 16, 16, 4)    292         ['up_sampling2d_2[0][0]']        \n",
            "                                                                                                  \n",
            " up_sampling2d_3 (UpSampling2D)  (None, 32, 32, 4)   0           ['conv2d_12[0][0]']              \n",
            "                                                                                                  \n",
            " conv2d_13 (Conv2D)             (None, 32, 32, 1)    37          ['up_sampling2d_3[0][0]']        \n",
            "                                                                                                  \n",
            "==================================================================================================\n",
            "Total params: 35,085\n",
            "Trainable params: 35,085\n",
            "Non-trainable params: 0\n",
            "__________________________________________________________________________________________________\n"
          ]
        }
      ]
    },
    {
      "cell_type": "code",
      "source": [
        "from keras.callbacks import TensorBoard\n",
        "\n",
        "autoencoder.fit(x_train, x_train,\n",
        "                epochs=100,\n",
        "                batch_size=128,\n",
        "                shuffle=True,\n",
        "                validation_data=(x_test, x_test),\n",
        "                callbacks=[TensorBoard(log_dir='/tmp/autoencoder')])"
      ],
      "metadata": {
        "colab": {
          "base_uri": "https://localhost:8080/"
        },
        "id": "kPCrPdKZQQVI",
        "outputId": "d19e9d73-7fe9-45dd-d7ae-3e33879d60c7"
      },
      "execution_count": 16,
      "outputs": [
        {
          "output_type": "stream",
          "name": "stdout",
          "text": [
            "Epoch 1/100\n",
            "819/819 [==============================] - 26s 11ms/step - loss: 0.6878 - val_loss: 0.6860\n",
            "Epoch 2/100\n",
            "819/819 [==============================] - 7s 9ms/step - loss: 0.6827 - val_loss: 0.6779\n",
            "Epoch 3/100\n",
            "819/819 [==============================] - 8s 10ms/step - loss: 0.6659 - val_loss: 0.6459\n",
            "Epoch 4/100\n",
            "819/819 [==============================] - 8s 9ms/step - loss: 0.6217 - val_loss: 0.6088\n",
            "Epoch 5/100\n",
            "819/819 [==============================] - 7s 8ms/step - loss: 0.6026 - val_loss: 0.5965\n",
            "Epoch 6/100\n",
            "819/819 [==============================] - 8s 9ms/step - loss: 0.5911 - val_loss: 0.5858\n",
            "Epoch 7/100\n",
            "819/819 [==============================] - 7s 9ms/step - loss: 0.5817 - val_loss: 0.5776\n",
            "Epoch 8/100\n",
            "819/819 [==============================] - 8s 9ms/step - loss: 0.5746 - val_loss: 0.5711\n",
            "Epoch 9/100\n",
            "819/819 [==============================] - 8s 10ms/step - loss: 0.5688 - val_loss: 0.5659\n",
            "Epoch 10/100\n",
            "819/819 [==============================] - 7s 9ms/step - loss: 0.5641 - val_loss: 0.5617\n",
            "Epoch 11/100\n",
            "819/819 [==============================] - 8s 10ms/step - loss: 0.5604 - val_loss: 0.5584\n",
            "Epoch 12/100\n",
            "819/819 [==============================] - 8s 10ms/step - loss: 0.5574 - val_loss: 0.5556\n",
            "Epoch 13/100\n",
            "819/819 [==============================] - 7s 8ms/step - loss: 0.5549 - val_loss: 0.5533\n",
            "Epoch 14/100\n",
            "819/819 [==============================] - 8s 9ms/step - loss: 0.5528 - val_loss: 0.5513\n",
            "Epoch 15/100\n",
            "819/819 [==============================] - 7s 8ms/step - loss: 0.5507 - val_loss: 0.5492\n",
            "Epoch 16/100\n",
            "819/819 [==============================] - 8s 9ms/step - loss: 0.5487 - val_loss: 0.5472\n",
            "Epoch 17/100\n",
            "819/819 [==============================] - 8s 10ms/step - loss: 0.5466 - val_loss: 0.5450\n",
            "Epoch 18/100\n",
            "819/819 [==============================] - 7s 8ms/step - loss: 0.5443 - val_loss: 0.5427\n",
            "Epoch 19/100\n",
            "819/819 [==============================] - 8s 9ms/step - loss: 0.5421 - val_loss: 0.5406\n",
            "Epoch 20/100\n",
            "819/819 [==============================] - 7s 9ms/step - loss: 0.5402 - val_loss: 0.5388\n",
            "Epoch 21/100\n",
            "819/819 [==============================] - 8s 9ms/step - loss: 0.5384 - val_loss: 0.5369\n",
            "Epoch 22/100\n",
            "819/819 [==============================] - 8s 9ms/step - loss: 0.5365 - val_loss: 0.5351\n",
            "Epoch 23/100\n",
            "819/819 [==============================] - 7s 9ms/step - loss: 0.5346 - val_loss: 0.5332\n",
            "Epoch 24/100\n",
            "819/819 [==============================] - 8s 10ms/step - loss: 0.5327 - val_loss: 0.5310\n",
            "Epoch 25/100\n",
            "819/819 [==============================] - 8s 10ms/step - loss: 0.5304 - val_loss: 0.5288\n",
            "Epoch 26/100\n",
            "819/819 [==============================] - 7s 8ms/step - loss: 0.5282 - val_loss: 0.5265\n",
            "Epoch 27/100\n",
            "819/819 [==============================] - 8s 9ms/step - loss: 0.5259 - val_loss: 0.5241\n",
            "Epoch 28/100\n",
            "819/819 [==============================] - 7s 9ms/step - loss: 0.5236 - val_loss: 0.5220\n",
            "Epoch 29/100\n",
            "819/819 [==============================] - 8s 9ms/step - loss: 0.5215 - val_loss: 0.5199\n",
            "Epoch 30/100\n",
            "819/819 [==============================] - 8s 9ms/step - loss: 0.5195 - val_loss: 0.5179\n",
            "Epoch 31/100\n",
            "819/819 [==============================] - 7s 9ms/step - loss: 0.5175 - val_loss: 0.5160\n",
            "Epoch 32/100\n",
            "819/819 [==============================] - 8s 9ms/step - loss: 0.5158 - val_loss: 0.5143\n",
            "Epoch 33/100\n",
            "819/819 [==============================] - 7s 9ms/step - loss: 0.5141 - val_loss: 0.5127\n",
            "Epoch 34/100\n",
            "819/819 [==============================] - 8s 9ms/step - loss: 0.5126 - val_loss: 0.5112\n",
            "Epoch 35/100\n",
            "819/819 [==============================] - 12s 14ms/step - loss: 0.5112 - val_loss: 0.5098\n",
            "Epoch 36/100\n",
            "819/819 [==============================] - 7s 9ms/step - loss: 0.5099 - val_loss: 0.5085\n",
            "Epoch 37/100\n",
            "819/819 [==============================] - 7s 9ms/step - loss: 0.5086 - val_loss: 0.5073\n",
            "Epoch 38/100\n",
            "819/819 [==============================] - 8s 9ms/step - loss: 0.5074 - val_loss: 0.5061\n",
            "Epoch 39/100\n",
            "819/819 [==============================] - 7s 9ms/step - loss: 0.5063 - val_loss: 0.5050\n",
            "Epoch 40/100\n",
            "819/819 [==============================] - 7s 9ms/step - loss: 0.5052 - val_loss: 0.5039\n",
            "Epoch 41/100\n",
            "819/819 [==============================] - 7s 9ms/step - loss: 0.5041 - val_loss: 0.5028\n",
            "Epoch 42/100\n",
            "819/819 [==============================] - 7s 8ms/step - loss: 0.5031 - val_loss: 0.5018\n",
            "Epoch 43/100\n",
            "819/819 [==============================] - 7s 9ms/step - loss: 0.5020 - val_loss: 0.5007\n",
            "Epoch 44/100\n",
            "819/819 [==============================] - 8s 10ms/step - loss: 0.5010 - val_loss: 0.4997\n",
            "Epoch 45/100\n",
            "819/819 [==============================] - 8s 9ms/step - loss: 0.4999 - val_loss: 0.4986\n",
            "Epoch 46/100\n",
            "819/819 [==============================] - 8s 9ms/step - loss: 0.4988 - val_loss: 0.4976\n",
            "Epoch 47/100\n",
            "819/819 [==============================] - 7s 9ms/step - loss: 0.4978 - val_loss: 0.4965\n",
            "Epoch 48/100\n",
            "819/819 [==============================] - 8s 9ms/step - loss: 0.4967 - val_loss: 0.4955\n",
            "Epoch 49/100\n",
            "819/819 [==============================] - 7s 9ms/step - loss: 0.4957 - val_loss: 0.4944\n",
            "Epoch 50/100\n",
            "819/819 [==============================] - 8s 9ms/step - loss: 0.4946 - val_loss: 0.4934\n",
            "Epoch 51/100\n",
            "819/819 [==============================] - 8s 10ms/step - loss: 0.4936 - val_loss: 0.4924\n",
            "Epoch 52/100\n",
            "819/819 [==============================] - 7s 8ms/step - loss: 0.4925 - val_loss: 0.4913\n",
            "Epoch 53/100\n",
            "819/819 [==============================] - 8s 9ms/step - loss: 0.4915 - val_loss: 0.4903\n",
            "Epoch 54/100\n",
            "819/819 [==============================] - 7s 9ms/step - loss: 0.4905 - val_loss: 0.4893\n",
            "Epoch 55/100\n",
            "819/819 [==============================] - 7s 9ms/step - loss: 0.4895 - val_loss: 0.4883\n",
            "Epoch 56/100\n",
            "819/819 [==============================] - 8s 9ms/step - loss: 0.4885 - val_loss: 0.4874\n",
            "Epoch 57/100\n",
            "819/819 [==============================] - 7s 9ms/step - loss: 0.4875 - val_loss: 0.4864\n",
            "Epoch 58/100\n",
            "819/819 [==============================] - 8s 9ms/step - loss: 0.4866 - val_loss: 0.4855\n",
            "Epoch 59/100\n",
            "819/819 [==============================] - 8s 9ms/step - loss: 0.4857 - val_loss: 0.4846\n",
            "Epoch 60/100\n",
            "819/819 [==============================] - 7s 9ms/step - loss: 0.4848 - val_loss: 0.4837\n",
            "Epoch 61/100\n",
            "819/819 [==============================] - 8s 9ms/step - loss: 0.4839 - val_loss: 0.4829\n",
            "Epoch 62/100\n",
            "819/819 [==============================] - 7s 9ms/step - loss: 0.4831 - val_loss: 0.4821\n",
            "Epoch 63/100\n",
            "819/819 [==============================] - 8s 9ms/step - loss: 0.4823 - val_loss: 0.4813\n",
            "Epoch 64/100\n",
            "819/819 [==============================] - 8s 9ms/step - loss: 0.4816 - val_loss: 0.4806\n",
            "Epoch 65/100\n",
            "819/819 [==============================] - 7s 8ms/step - loss: 0.4808 - val_loss: 0.4799\n",
            "Epoch 66/100\n",
            "819/819 [==============================] - 8s 9ms/step - loss: 0.4801 - val_loss: 0.4792\n",
            "Epoch 67/100\n",
            "819/819 [==============================] - 7s 9ms/step - loss: 0.4795 - val_loss: 0.4785\n",
            "Epoch 68/100\n",
            "819/819 [==============================] - 8s 9ms/step - loss: 0.4788 - val_loss: 0.4779\n",
            "Epoch 69/100\n",
            "819/819 [==============================] - 8s 9ms/step - loss: 0.4781 - val_loss: 0.4772\n",
            "Epoch 70/100\n",
            "819/819 [==============================] - 7s 8ms/step - loss: 0.4775 - val_loss: 0.4766\n",
            "Epoch 71/100\n",
            "819/819 [==============================] - 8s 9ms/step - loss: 0.4768 - val_loss: 0.4759\n",
            "Epoch 72/100\n",
            "819/819 [==============================] - 7s 8ms/step - loss: 0.4762 - val_loss: 0.4753\n",
            "Epoch 73/100\n",
            "819/819 [==============================] - 7s 9ms/step - loss: 0.4756 - val_loss: 0.4747\n",
            "Epoch 74/100\n",
            "819/819 [==============================] - 8s 9ms/step - loss: 0.4750 - val_loss: 0.4741\n",
            "Epoch 75/100\n",
            "819/819 [==============================] - 7s 9ms/step - loss: 0.4744 - val_loss: 0.4735\n",
            "Epoch 76/100\n",
            "819/819 [==============================] - 8s 9ms/step - loss: 0.4738 - val_loss: 0.4729\n",
            "Epoch 77/100\n",
            "819/819 [==============================] - 7s 8ms/step - loss: 0.4732 - val_loss: 0.4723\n",
            "Epoch 78/100\n",
            "819/819 [==============================] - 8s 9ms/step - loss: 0.4726 - val_loss: 0.4718\n",
            "Epoch 79/100\n",
            "819/819 [==============================] - 8s 9ms/step - loss: 0.4721 - val_loss: 0.4712\n",
            "Epoch 80/100\n",
            "819/819 [==============================] - 7s 9ms/step - loss: 0.4715 - val_loss: 0.4707\n",
            "Epoch 81/100\n",
            "819/819 [==============================] - 8s 9ms/step - loss: 0.4710 - val_loss: 0.4701\n",
            "Epoch 82/100\n",
            "819/819 [==============================] - 7s 9ms/step - loss: 0.4705 - val_loss: 0.4696\n",
            "Epoch 83/100\n",
            "819/819 [==============================] - 7s 9ms/step - loss: 0.4699 - val_loss: 0.4691\n",
            "Epoch 84/100\n",
            "819/819 [==============================] - 8s 9ms/step - loss: 0.4694 - val_loss: 0.4686\n",
            "Epoch 85/100\n",
            "819/819 [==============================] - 7s 9ms/step - loss: 0.4690 - val_loss: 0.4681\n",
            "Epoch 86/100\n",
            "819/819 [==============================] - 8s 9ms/step - loss: 0.4685 - val_loss: 0.4677\n",
            "Epoch 87/100\n",
            "819/819 [==============================] - 7s 9ms/step - loss: 0.4680 - val_loss: 0.4672\n",
            "Epoch 88/100\n",
            "819/819 [==============================] - 7s 9ms/step - loss: 0.4675 - val_loss: 0.4667\n",
            "Epoch 89/100\n",
            "819/819 [==============================] - 8s 9ms/step - loss: 0.4671 - val_loss: 0.4663\n",
            "Epoch 90/100\n",
            "819/819 [==============================] - 7s 8ms/step - loss: 0.4666 - val_loss: 0.4658\n",
            "Epoch 91/100\n",
            "819/819 [==============================] - 8s 9ms/step - loss: 0.4662 - val_loss: 0.4654\n",
            "Epoch 92/100\n",
            "819/819 [==============================] - 8s 9ms/step - loss: 0.4657 - val_loss: 0.4649\n",
            "Epoch 93/100\n",
            "819/819 [==============================] - 7s 9ms/step - loss: 0.4653 - val_loss: 0.4645\n",
            "Epoch 94/100\n",
            "819/819 [==============================] - 8s 9ms/step - loss: 0.4648 - val_loss: 0.4641\n",
            "Epoch 95/100\n",
            "819/819 [==============================] - 7s 9ms/step - loss: 0.4644 - val_loss: 0.4636\n",
            "Epoch 96/100\n",
            "819/819 [==============================] - 7s 9ms/step - loss: 0.4639 - val_loss: 0.4632\n",
            "Epoch 97/100\n",
            "819/819 [==============================] - 7s 9ms/step - loss: 0.4635 - val_loss: 0.4628\n",
            "Epoch 98/100\n",
            "819/819 [==============================] - 7s 8ms/step - loss: 0.4631 - val_loss: 0.4623\n",
            "Epoch 99/100\n",
            "819/819 [==============================] - 8s 9ms/step - loss: 0.4627 - val_loss: 0.4619\n",
            "Epoch 100/100\n",
            "819/819 [==============================] - 7s 8ms/step - loss: 0.4623 - val_loss: 0.4615\n"
          ]
        },
        {
          "output_type": "execute_result",
          "data": {
            "text/plain": [
              "<keras.callbacks.History at 0x7f0000a25d00>"
            ]
          },
          "metadata": {},
          "execution_count": 16
        }
      ]
    },
    {
      "cell_type": "code",
      "source": [
        "cols = 25\n",
        "idx = np.random.randint(x_test.shape[0], size=cols)\n",
        "sample = x_test[idx]\n",
        "decoded_imgs = autoencoder.predict(sample)\n",
        "decoded_imgs.shape"
      ],
      "metadata": {
        "colab": {
          "base_uri": "https://localhost:8080/"
        },
        "id": "PpB5aYbdSVlq",
        "outputId": "b0f1a149-c12e-461d-c630-ecfabe0048c9"
      },
      "execution_count": 17,
      "outputs": [
        {
          "output_type": "stream",
          "name": "stdout",
          "text": [
            "1/1 [==============================] - 1s 884ms/step\n"
          ]
        },
        {
          "output_type": "execute_result",
          "data": {
            "text/plain": [
              "(25, 32, 32, 1)"
            ]
          },
          "metadata": {},
          "execution_count": 17
        }
      ]
    },
    {
      "cell_type": "code",
      "source": [
        "from keras.layers import Reshape, Concatenate, Flatten, Lambda, Input, Dense, Conv2D, MaxPooling2D, UpSampling2D\n",
        "from IPython.display import Image, display\n",
        "from io import BytesIO\n",
        "\n",
        "def decode_img(tile, factor=1.0):\n",
        "    tile = tile.reshape(tile.shape[:-1])\n",
        "    tile = np.clip(tile * 255, 0, 255)\n",
        "    return PIL.Image.fromarray(tile)\n",
        "    \n",
        "\n",
        "overview = PIL.Image.new('RGB', (cols * 32, 64 + 20), (128, 128, 128))\n",
        "for idx in range(cols):\n",
        "    overview.paste(decode_img(sample[idx]), (idx * 32, 5))\n",
        "    overview.paste(decode_img(decoded_imgs[idx]), (idx * 32, 42))\n",
        "f = BytesIO()\n",
        "overview.save(f, 'png')\n",
        "display(Image(data=f.getvalue()))"
      ],
      "metadata": {
        "colab": {
          "base_uri": "https://localhost:8080/",
          "height": 101
        },
        "id": "-SrLPu4FSYQw",
        "outputId": "57417c08-d3d1-42c2-81de-b0dfa854a824"
      },
      "execution_count": 22,
      "outputs": [
        {
          "output_type": "display_data",
          "data": {
            "image/png": "[encoded data removed]",
            "text/plain": [
              "<IPython.core.display.Image object>"
            ]
          },
          "metadata": {}
        }
      ]
    },
    {
      "cell_type": "code",
      "source": [],
      "metadata": {
        "id": "DU64DmvTSY5c"
      },
      "execution_count": null,
      "outputs": []
    }
  ]
}